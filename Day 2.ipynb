{
 "cells": [
  {
   "cell_type": "markdown",
   "id": "d0334990",
   "metadata": {},
   "source": [
    "#oops"
   ]
  },
  {
   "cell_type": "code",
   "execution_count": 9,
   "id": "0d89d761",
   "metadata": {},
   "outputs": [
    {
     "name": "stdout",
     "output_type": "stream",
     "text": [
      "2670781150704\n",
      "2670781150704\n",
      "Akash\n"
     ]
    }
   ],
   "source": [
    "class Sample:\n",
    "    def __init__(self):\n",
    "        self.name=\"Akash\"#class variable\n",
    "    def display(self):\n",
    "        print(self.name)\n",
    "obj1=Sample()\n",
    "obj2=Sample()\n",
    "\n",
    "print(id(obj1.name))\n",
    "print(id(obj2.name))\n",
    "obj1.display()\n"
   ]
  },
  {
   "cell_type": "code",
   "execution_count": 12,
   "id": "01609887",
   "metadata": {},
   "outputs": [
    {
     "name": "stdout",
     "output_type": "stream",
     "text": [
      "init\n",
      "init\n",
      "Akash\n",
      "<__main__.Sample object at 0x0000026DD6FABBE0>\n"
     ]
    }
   ],
   "source": [
    "class Sample:\n",
    "    def __init__(self):\n",
    "        self.name=\"Akash\"#class variable\n",
    "        print(\"init\")\n",
    "    def display(self):\n",
    "        print(self.name)\n",
    "obj1=Sample()\n",
    "obj2=Sample()\n",
    "print(obj1.name)\n",
    "print(obj1)\n",
    "#init prints 2 times becz obj created twice"
   ]
  },
  {
   "cell_type": "code",
   "execution_count": 21,
   "id": "87bb1129",
   "metadata": {},
   "outputs": [
    {
     "name": "stdout",
     "output_type": "stream",
     "text": [
      "name: Akash\n",
      "Age: 19\n",
      "name: Akash1\n",
      "Age: 19\n"
     ]
    }
   ],
   "source": [
    "class Student:\n",
    "    def __init__(self,name,age):\n",
    "        self.name = name\n",
    "        self.age = age\n",
    "    def display(self):\n",
    "        print(\"name:\",self.name)\n",
    "        print(\"Age:\",self.age)\n",
    "s1=Student(\"Akash\",19)\n",
    "s2=Student(\"Akash1\",19)\n",
    "s1.display()\n",
    "s2.display()\n"
   ]
  },
  {
   "cell_type": "code",
   "execution_count": 27,
   "id": "bfbe104d",
   "metadata": {},
   "outputs": [
    {
     "name": "stdout",
     "output_type": "stream",
     "text": [
      "Name\tAge\tsalary\t\n",
      "Amith \t 25 \t 30000\n"
     ]
    }
   ],
   "source": [
    "class Employee:\n",
    "    def __init__(self,name,age,salary):\n",
    "        self.name = name\n",
    "        self.age = age\n",
    "        self.salary = salary\n",
    "    def display(self):\n",
    "        print(\"Name\\tAge\\tsalary\\t\")\n",
    "        print(self.name,\"\\t\",self.age,\"\\t\",self.salary)\n",
    "    \n",
    "e1=Employee(\"Amith\",25,30000)\n",
    "e1.display()"
   ]
  },
  {
   "cell_type": "code",
   "execution_count": 39,
   "id": "f77cae63",
   "metadata": {},
   "outputs": [
    {
     "name": "stdout",
     "output_type": "stream",
     "text": [
      "work\n",
      "Bark\n"
     ]
    }
   ],
   "source": [
    "#simple inheritance\n",
    "class Animal:\n",
    "    def __init__(self,name):\n",
    "        self.name=name\n",
    "        print(\"work\")\n",
    "    def speak(self):\n",
    "        pass\n",
    "\n",
    "\n",
    "class Dog(Animal):\n",
    "    def speak(self):\n",
    "        print(\"Bark\")\n",
    "d1=Dog(\"lab\")\n",
    "d1.speak()\n"
   ]
  },
  {
   "cell_type": "code",
   "execution_count": 38,
   "id": "ed53635a",
   "metadata": {},
   "outputs": [
    {
     "name": "stdout",
     "output_type": "stream",
     "text": [
      "work\n",
      "hello\n",
      "Bark\n"
     ]
    }
   ],
   "source": [
    "#multiple in\n",
    "class Animal:\n",
    "    def __init__(self,name):\n",
    "        self.name=name\n",
    "        print(\"work\")\n",
    "    def speak(self):\n",
    "        pass\n",
    "class Sample:\n",
    "    def hello(self):\n",
    "        print(\"hello\")\n",
    "\n",
    "class Dog(Animal,Sample):\n",
    "    def speak(self):\n",
    "        print(\"Bark\")\n",
    "d=Dog(\"lab\")\n",
    "d.hello()\n",
    "d.speak()"
   ]
  },
  {
   "cell_type": "code",
   "execution_count": 45,
   "id": "506d854d",
   "metadata": {},
   "outputs": [
    {
     "name": "stdout",
     "output_type": "stream",
     "text": [
      "Amith\n",
      "Raj\n"
     ]
    }
   ],
   "source": [
    "#method overriding\n",
    "class Parent:\n",
    "    def __init__(self,name):\n",
    "        self.name=name\n",
    "    def hello(self):\n",
    "        print(self.name)\n",
    "class child(Parent):\n",
    "    def __init__(self,name):\n",
    "        self.name=name\n",
    "    def hello(self):\n",
    "        print(self.name)\n",
    "    \n",
    "p=Parent(\"Amith\")\n",
    "p.hello()\n",
    "\n",
    "c=child(\"Raj\")\n",
    "c.hello()\n",
    "        "
   ]
  },
  {
   "cell_type": "code",
   "execution_count": 51,
   "id": "ea6745fd",
   "metadata": {},
   "outputs": [
    {
     "name": "stdout",
     "output_type": "stream",
     "text": [
      "amith 20 30000\n",
      "amith 20 1234\n"
     ]
    }
   ],
   "source": [
    "class Person:\n",
    "    def __init__(self,name,age,id):\n",
    "        self.name=name\n",
    "        self.age=age\n",
    "        self.id=id\n",
    "        super().__init__()\n",
    "    def display_det(self):\n",
    "        print(self.name,self.age,self.id)\n",
    "class Employee(Person):\n",
    "    def __init__(self,name,age,salary):\n",
    "        self.name=name\n",
    "        self.age=age\n",
    "        self.salary=salary\n",
    "    def display_det(self):\n",
    "        print(self.name,self.age,self.salary)\n",
    "\n",
    "e=Employee(\"amith\",20,30000)\n",
    "e.display_det()  \n",
    "p=Person(\"amith\",20,1234)\n",
    "p.display_det()"
   ]
  },
  {
   "cell_type": "code",
   "execution_count": 62,
   "id": "f750a6fb",
   "metadata": {},
   "outputs": [
    {
     "name": "stdout",
     "output_type": "stream",
     "text": [
      "Amith 1234 100100\n",
      "Amith 1234 100050\n",
      "Amith 1234 95047.5\n"
     ]
    }
   ],
   "source": [
    "#Bank\n",
    "class BankAccount:\n",
    "    def __init__(self,name,acc_no,balance):\n",
    "        self.name=name\n",
    "        self.acc_no=acc_no\n",
    "        self.balance=balance\n",
    "    def deposite(self,amt):\n",
    "        self.amt=amt\n",
    "        self.balance=self.balance+self.amt\n",
    "    def withdraw(self,amt):\n",
    "        self.amt=amt\n",
    "        self.balance=self.balance-self.amt\n",
    "    def bank_fees(self):\n",
    "        self.balance=self.balance-(0.05*self.balance)\n",
    "    def display(self):\n",
    "        print(self.name,self.acc_no,self.balance)\n",
    "        \n",
    "4\n",
    "b=BankAccount(\"Amith\",1234,100000)\n",
    "b.deposite(100)\n",
    "b.display()\n",
    "b.withdraw(50)\n",
    "b.display()\n",
    "b.bank_fees()\n",
    "b.display()"
   ]
  },
  {
   "cell_type": "code",
   "execution_count": null,
   "id": "6718e15a",
   "metadata": {},
   "outputs": [],
   "source": []
  }
 ],
 "metadata": {
  "kernelspec": {
   "display_name": "Python 3 (ipykernel)",
   "language": "python",
   "name": "python3"
  },
  "language_info": {
   "codemirror_mode": {
    "name": "ipython",
    "version": 3
   },
   "file_extension": ".py",
   "mimetype": "text/x-python",
   "name": "python",
   "nbconvert_exporter": "python",
   "pygments_lexer": "ipython3",
   "version": "3.9.13"
  }
 },
 "nbformat": 4,
 "nbformat_minor": 5
}
